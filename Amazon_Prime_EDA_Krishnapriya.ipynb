{
  "nbformat": 4,
  "nbformat_minor": 0,
  "metadata": {
    "colab": {
      "private_outputs": true,
      "provenance": [],
      "collapsed_sections": [
        "vncDsAP0Gaoa",
        "mDgbUHAGgjLW",
        "Y3lxredqlCYt",
        "E6MkPsBcp1cl",
        "2cELzS2fp1cl",
        "3MPXvC8up1cl",
        "UV0SzAkaZNRQ",
        "YPEH6qLeZNRQ",
        "gIfDvo9L0UH2"
      ],
      "include_colab_link": true
    },
    "kernelspec": {
      "name": "python3",
      "display_name": "Python 3"
    },
    "language_info": {
      "name": "python"
    }
  },
  "cells": [
    {
      "cell_type": "markdown",
      "metadata": {
        "id": "view-in-github",
        "colab_type": "text"
      },
      "source": [
        "<a href=\"https://colab.research.google.com/github/krishna280104/AMAZON-PRIME-EDA/blob/main/Amazon_Prime_EDA_Krishnapriya.ipynb\" target=\"_parent\"><img src=\"https://colab.research.google.com/assets/colab-badge.svg\" alt=\"Open In Colab\"/></a>"
      ]
    },
    {
      "cell_type": "code",
      "source": [],
      "metadata": {
        "id": "I1apcow5dxii"
      },
      "execution_count": null,
      "outputs": []
    },
    {
      "cell_type": "markdown",
      "source": [
        "# **Project Name**    - AMAZON PRIME TV & MOVIE TRENDS: AN EDA APPROACH\n",
        "\n"
      ],
      "metadata": {
        "id": "vncDsAP0Gaoa"
      }
    },
    {
      "cell_type": "markdown",
      "source": [
        "##### **Project Type**    - EDA\n",
        "##### **Contribution**    - Individual\n"
      ],
      "metadata": {
        "id": "beRrZCGUAJYm"
      }
    },
    {
      "cell_type": "markdown",
      "source": [
        "# **Project Summary -**"
      ],
      "metadata": {
        "id": "FJNUwmbgGyua"
      }
    },
    {
      "cell_type": "markdown",
      "source": [
        "The project titled “Amazon Prime TV and Movie Trends – An EDA Approach” focuses on uncovering hidden patterns, insights, and trends within Amazon Prime’s publicly available TV show and movie dataset using Exploratory Data Analysis (EDA). As a growing OTT platform, Amazon Prime continuously adds content in various genres, formats, and regions. To maintain user satisfaction and optimize content strategy, it’s crucial to understand what types of content perform well, which genres dominate, and how user ratings and other metadata relate to viewership trends.\n",
        "\n",
        "This analysis was conducted individually using Python and libraries such as Pandas, NumPy, Matplotlib, Seaborn, and Plotly for data cleaning, manipulation, and visualization. The main objective was to derive meaningful business insights that can guide Amazon Prime in its content creation, recommendation strategies, and user engagement improvements.\n",
        "\n",
        "The project began with data loading and initial exploration, identifying missing values, incorrect data types, and anomalies. A thorough data cleaning process was performed, which included handling null values, converting data types (like dates), and standardizing column values (for genres, seasons, etc.). This helped prepare the dataset for deeper analysis.\n",
        "\n",
        "Next, univariate and bivariate visualizations were used to explore individual columns and relationships between them. For instance, charts were created to analyze:\n",
        "\t•\tThe number of movies vs. TV shows\n",
        "\t•\tTop contributing countries to Amazon Prime’s content\n",
        "\t•\tMost frequent genres and their IMDB scores\n",
        "\t•\tRelationship between runtime and ratings\n",
        "\t•\tSeasonal trends in content release\n",
        "\t•\tDistribution of IMDb scores across content types and genres\n",
        "\n",
        "These visualizations helped highlight some important insights. For example, movies dominate over TV shows in quantity, but TV shows tend to have slightly higher IMDb ratings on average. It was also observed that genres like Drama, Comedy, and Documentary are the most frequently available, suggesting a content strategy aligned with mass appeal. However, niche genres still maintain consistent viewer ratings.\n",
        "\n",
        "A correlation heatmap was used to identify numerical relationships between variables such as IMDb score, number of votes, seasons, and runtime. A pair plot was used to further explore multi-variable relationships, which added depth to the interpretation of these numerical fields.\n",
        "\n",
        "The final section involved connecting the findings to real-world business objectives. Based on the data, it was clear that Amazon Prime could enhance its recommendation engine by combining genre, runtime, release year, and user rating data. Personalized recommendations based on such features could improve engagement and retention.\n",
        "\n",
        "Other suggested solutions include better content scheduling based on seasonal trends, investing in genres that consistently receive high ratings, and focusing on regional content that shows strong engagement. The project ultimately offers actionable recommendations that, if applied, can help Amazon Prime strengthen its market position by making informed, data-driven content decisions."
      ],
      "metadata": {
        "id": "F6v_1wHtG2nS"
      }
    },
    {
      "cell_type": "markdown",
      "source": [
        "# **GitHub Link -**"
      ],
      "metadata": {
        "id": "w6K7xa23Elo4"
      }
    },
    {
      "cell_type": "markdown",
      "source": [
        "https://github.com/krishna280104/AMAZON-PRIME-EDA"
      ],
      "metadata": {
        "id": "h1o69JH3Eqqn"
      }
    },
    {
      "cell_type": "markdown",
      "source": [
        "# **Problem Statement**\n"
      ],
      "metadata": {
        "id": "yQaldy8SH6Dl"
      }
    },
    {
      "cell_type": "markdown",
      "source": [
        "\n",
        "\n",
        "With the explosion of digital content and growing competition in the OTT (Over-the-Top) industry, platforms like Amazon Prime are constantly striving to improve user engagement, retention, and satisfaction. However, understanding which factors influence viewer preferences—such as content type, genre, country of origin, release year, and user ratings—is a complex task due to the sheer volume and diversity of data.\n",
        "\n",
        "Amazon Prime hosts thousands of movies and TV shows globally, but lacks readily interpretable insights from this data that could guide decision-making. Without a thorough analysis of content trends and user engagement patterns, the platform may miss opportunities to:\n",
        "- Optimize its content strategy,\n",
        "-\tRecommend the right content to the right audience,\n",
        "-\tIdentify underperforming areas for improvement, and\n",
        "- Leverage high-performing categories to drive growth.\n",
        "\n",
        "\n",
        "\n",
        "\n",
        "\n",
        "This project aims to address these challenges by conducting Exploratory Data Analysis (EDA) on Amazon Prime’s content dataset to uncover patterns, trends, and relationships that can help improve content quality, personalization, and strategic decisions."
      ],
      "metadata": {
        "id": "DpeJGUA3kjGy"
      }
    },
    {
      "cell_type": "markdown",
      "source": [
        "#### **Define Your Business Objective?**"
      ],
      "metadata": {
        "id": "PH-0ReGfmX4f"
      }
    },
    {
      "cell_type": "markdown",
      "source": [
        "The main objective of this Exploratory Data Analysis (EDA) project is to extract meaningful insights from Amazon Prime’s TV shows and movies dataset to support better decision-making and enhance business outcomes. By analyzing key attributes like content type, genre, release year, runtime, IMDb ratings, and popularity, the project seeks to uncover trends and patterns that reflect viewer behavior and content performance.\n",
        "\n",
        "The specific goals are to:\n",
        "1.\tUnderstand Content Distribution: Analyze the proportion of movies vs. TV shows and examine how content is distributed across genres, countries, and age certifications.\n",
        "2.\tIdentify Viewer Preferences: Investigate which genres, runtimes, and release years receive higher IMDb ratings and engagement.\n",
        "3.\tTrack Popularity Trends: Explore how content popularity varies with time, genre, and other metadata features.\n",
        "4.\tSupport Data-Driven Personalization: Provide insights that can help recommend relevant content to users based on trends and ratings.\n",
        "5.\tAssist Strategic Planning: Help Amazon Prime identify what type of content to acquire or produce more of, based on data-backed insights, in order to improve viewer satisfaction and maximize engagement.\n",
        "\n",
        "Ultimately, this analysis enables Amazon Prime to make informed, data-driven decisions that improve user experience, drive content success, and strengthen its position in the competitive OTT market."
      ],
      "metadata": {
        "id": "PhDvGCAqmjP1"
      }
    },
    {
      "cell_type": "markdown",
      "source": [
        "# **General Guidelines** : -  "
      ],
      "metadata": {
        "id": "mDgbUHAGgjLW"
      }
    },
    {
      "cell_type": "markdown",
      "source": [
        "1.   Well-structured, formatted, and commented code is required.\n",
        "2.   Exception Handling, Production Grade Code & Deployment Ready Code will be a plus. Those students will be awarded some additional credits.\n",
        "     \n",
        "     The additional credits will have advantages over other students during Star Student selection.\n",
        "       \n",
        "             [ Note: - Deployment Ready Code is defined as, the whole .ipynb notebook should be executable in one go\n",
        "                       without a single error logged. ]\n",
        "\n",
        "3.   Each and every logic should have proper comments.\n",
        "4. You may add as many number of charts you want. Make Sure for each and every chart the following format should be answered.\n",
        "        \n",
        "\n",
        "```\n",
        "# Chart visualization code\n",
        "```\n",
        "            \n",
        "\n",
        "*   Why did you pick the specific chart?\n",
        "*   What is/are the insight(s) found from the chart?\n",
        "* Will the gained insights help creating a positive business impact?\n",
        "Are there any insights that lead to negative growth? Justify with specific reason.\n",
        "\n",
        "5. You have to create at least 20 logical & meaningful charts having important insights.\n",
        "\n",
        "\n",
        "[ Hints : - Do the Vizualization in  a structured way while following \"UBM\" Rule.\n",
        "\n",
        "U - Univariate Analysis,\n",
        "\n",
        "B - Bivariate Analysis (Numerical - Categorical, Numerical - Numerical, Categorical - Categorical)\n",
        "\n",
        "M - Multivariate Analysis\n",
        " ]\n",
        "\n",
        "\n",
        "\n"
      ],
      "metadata": {
        "id": "ZrxVaUj-hHfC"
      }
    },
    {
      "cell_type": "markdown",
      "source": [
        "# ***Let's Begin !***"
      ],
      "metadata": {
        "id": "O_i_v8NEhb9l"
      }
    },
    {
      "cell_type": "markdown",
      "source": [
        "## ***1. Know Your Data***"
      ],
      "metadata": {
        "id": "HhfV-JJviCcP"
      }
    },
    {
      "cell_type": "markdown",
      "source": [
        "### Import Libraries"
      ],
      "metadata": {
        "id": "Y3lxredqlCYt"
      }
    },
    {
      "cell_type": "code",
      "source": [
        "# Import Libraries"
      ],
      "metadata": {
        "id": "M8Vqi-pPk-HR"
      },
      "execution_count": null,
      "outputs": []
    },
    {
      "cell_type": "markdown",
      "source": [
        "### Dataset Loading"
      ],
      "metadata": {
        "id": "3RnN4peoiCZX"
      }
    },
    {
      "cell_type": "code",
      "source": [
        "import pandas as pd\n",
        "titles = pd.read_csv('titles.csv')\n",
        "credits = pd.read_csv('credits.csv')"
      ],
      "metadata": {
        "id": "4CkvbW_SlZ_R"
      },
      "execution_count": null,
      "outputs": []
    },
    {
      "cell_type": "markdown",
      "source": [
        "### Dataset First View"
      ],
      "metadata": {
        "id": "x71ZqKXriCWQ"
      }
    },
    {
      "cell_type": "code",
      "source": [
        "titles.head()\n",
        "credits.head()"
      ],
      "metadata": {
        "id": "LWNFOSvLl09H"
      },
      "execution_count": null,
      "outputs": []
    },
    {
      "cell_type": "markdown",
      "source": [
        "### Dataset Rows & Columns count"
      ],
      "metadata": {
        "id": "7hBIi_osiCS2"
      }
    },
    {
      "cell_type": "code",
      "source": [
        "print(\"Titles Shape:\", titles.shape)\n",
        "print(\"Credits Shape:\", credits.shape)\n",
        "titles.columns\n",
        "credits.columns"
      ],
      "metadata": {
        "id": "Kllu7SJgmLij"
      },
      "execution_count": null,
      "outputs": []
    },
    {
      "cell_type": "markdown",
      "source": [
        "### Dataset Information"
      ],
      "metadata": {
        "id": "JlHwYmJAmNHm"
      }
    },
    {
      "cell_type": "code",
      "source": [
        "titles.info()\n",
        "credits.info()"
      ],
      "metadata": {
        "id": "e9hRXRi6meOf"
      },
      "execution_count": null,
      "outputs": []
    },
    {
      "cell_type": "markdown",
      "source": [
        "#### Duplicate Values"
      ],
      "metadata": {
        "id": "35m5QtbWiB9F"
      }
    },
    {
      "cell_type": "code",
      "source": [
        "print(\"Duplicate rows in titles:\", titles.duplicated().sum())\n",
        "print(\"Duplicate rows in credits:\", credits.duplicated().sum())\n",
        "\n",
        "titles.drop_duplicates(inplace=True)\n",
        "credits.drop_duplicates(inplace=True) #removed duplicate rows"
      ],
      "metadata": {
        "id": "1sLdpKYkmox0"
      },
      "execution_count": null,
      "outputs": []
    },
    {
      "cell_type": "markdown",
      "source": [
        "#### Missing Values/Null Values"
      ],
      "metadata": {
        "id": "PoPl-ycgm1ru"
      }
    },
    {
      "cell_type": "code",
      "source": [
        "titles.isnull().sum()\n",
        "credits.isnull().sum()"
      ],
      "metadata": {
        "id": "GgHWkxvamxVg"
      },
      "execution_count": null,
      "outputs": []
    },
    {
      "cell_type": "code",
      "source": [
        "!pip install missingno\n",
        "import missingno as msno\n",
        "import matplotlib.pyplot as plt\n",
        "#visulize missing values in titles dataset\n",
        "msno.matrix(titles)\n",
        "plt.show()\n",
        "#visualize missing values in credits\n",
        "msno.matrix(credits)\n",
        "plt.show()"
      ],
      "metadata": {
        "id": "3q5wnI3om9sJ"
      },
      "execution_count": null,
      "outputs": []
    },
    {
      "cell_type": "markdown",
      "source": [
        "### What did you know about your dataset?"
      ],
      "metadata": {
        "id": "H0kj-8xxnORC"
      }
    },
    {
      "cell_type": "markdown",
      "source": [
        "The titles"
      ],
      "metadata": {
        "id": "gfoNAAC-nUe_"
      }
    },
    {
      "cell_type": "markdown",
      "source": [
        "## ***2. Understanding Your Variables***"
      ],
      "metadata": {
        "id": "nA9Y7ga8ng1Z"
      }
    },
    {
      "cell_type": "code",
      "source": [
        "print(titles.columns)\n",
        "print(credits.columns)"
      ],
      "metadata": {
        "id": "j7xfkqrt5Ag5"
      },
      "execution_count": null,
      "outputs": []
    },
    {
      "cell_type": "code",
      "source": [
        "titles.describe()\n",
        "credits.describe()"
      ],
      "metadata": {
        "id": "DnOaZdaE5Q5t"
      },
      "execution_count": null,
      "outputs": []
    },
    {
      "cell_type": "markdown",
      "source": [
        "### Variables Description"
      ],
      "metadata": {
        "id": "PBTbrJXOngz2"
      }
    },
    {
      "cell_type": "markdown",
      "source": [
        "Answer Here"
      ],
      "metadata": {
        "id": "aJV4KIxSnxay"
      }
    },
    {
      "cell_type": "markdown",
      "source": [
        "### Check Unique Values for each variable."
      ],
      "metadata": {
        "id": "u3PMJOP6ngxN"
      }
    },
    {
      "cell_type": "code",
      "source": [
        "titles.nunique()\n",
        "credits.nunique()"
      ],
      "metadata": {
        "id": "zms12Yq5n-jE"
      },
      "execution_count": null,
      "outputs": []
    },
    {
      "cell_type": "markdown",
      "source": [
        "## 3. ***Data Wrangling***"
      ],
      "metadata": {
        "id": "dauF4eBmngu3"
      }
    },
    {
      "cell_type": "markdown",
      "source": [
        "### Data Wrangling Code"
      ],
      "metadata": {
        "id": "bKJF3rekwFvQ"
      }
    },
    {
      "cell_type": "code",
      "source": [
        "#make a copy so original stays safe\n",
        "titles_clean = titles.copy()\n",
        "credits_clean = credits.copy()\n",
        "\n",
        "#drop rows with missing titles (cant analyze without names)\n",
        "titles_clean.dropna(subset=['title'], inplace=True)\n",
        "\n",
        "#fill missing IMDb scores and runtimes with the mean\n",
        "titles_clean['imdb_score'].fillna(titles_clean['imdb_score'].mean(), inplace=True)\n",
        "titles_clean['runtime'].fillna(titles_clean['runtime'].mean(), inplace=True)\n",
        "\n",
        "#replace missing age certifications with 'Unknown'\n",
        "titles_clean['age_certification'].fillna('Unknown', inplace=True)\n",
        "\n",
        "#replace missing genres with 'Unknown'\n",
        "titles_clean['genres'].fillna('Unknown', inplace=True)\n",
        "\n",
        "#drop any unnecessary columns if you find any (example below)\n",
        "titles_clean.drop(columns=['description'], inplace=True)\n",
        "\n",
        "#reset index after cleaning\n",
        "titles_clean.reset_index(drop=True, inplace=True)\n",
        "\n",
        "#confirm its clean\n",
        "print(\"Null values after wrangling:\\n\", titles_clean.isnull().sum())"
      ],
      "metadata": {
        "id": "wk-9a2fpoLcV"
      },
      "execution_count": null,
      "outputs": []
    },
    {
      "cell_type": "markdown",
      "source": [
        "### What all manipulations have you done and insights you found?"
      ],
      "metadata": {
        "id": "MSa1f5Uengrz"
      }
    },
    {
      "cell_type": "markdown",
      "source": [
        "1.Removed rows with missing title values since they are essential for analysis\n",
        "\n",
        "2.Filled missing values in imdb_score and runtime with their respective column averages\n",
        "\n",
        "3.replaced missing values in age_certifications with 'Unknown'\n",
        "\n",
        "4.removed duplicate rows to ensure clean and consistent data\n",
        "\n",
        "5.reset the index after cleaning to maintain proper raw order\n",
        "\n",
        "INITIAL INSIGHTS\n",
        "1.The data contains more movies than TV shows\n",
        "\n",
        "2.Most content was released after 2010, showing a modern catalog\n",
        "\n",
        "3.'Unknown' or missing age ratings are quite frequent which could affect age based analysis\n",
        "\n",
        "4.IMDb scores are mostly between 5 and 7 with afew highly rated titles\n",
        "\n",
        "5.the most common roles in credits are actor and director which can be useful for cast analysis later"
      ],
      "metadata": {
        "id": "LbyXE7I1olp8"
      }
    },
    {
      "cell_type": "markdown",
      "source": [
        "## ***4. Data Vizualization, Storytelling & Experimenting with charts : Understand the relationships between variables***"
      ],
      "metadata": {
        "id": "GF8Ens_Soomf"
      }
    },
    {
      "cell_type": "markdown",
      "source": [
        "#### Chart - 1"
      ],
      "metadata": {
        "id": "0wOQAZs5pc--"
      }
    },
    {
      "cell_type": "code",
      "source": [
        "import seaborn as sns\n",
        "import matplotlib.pyplot as plt\n",
        "\n",
        "# Create a figure for the plot with a specified size\n",
        "plt.figure(figsize=(6,4))\n",
        "\n",
        "# Generate a count plot of content types (Movie vs Show)\n",
        "sns.countplot(data=titles_clean, x='type')\n",
        "\n",
        "# Set the title of the plot\n",
        "plt.title('Count of movies vs tv shows on amazon prime')\n",
        "\n",
        "# Set the label for the x-axis\n",
        "plt.xlabel('Content Type')\n",
        "\n",
        "# Set the label for the y-axis\n",
        "plt.ylabel('Count')\n",
        "\n",
        "# Display the plot\n",
        "plt.show()"
      ],
      "metadata": {
        "id": "7v_ESjsspbW7"
      },
      "execution_count": null,
      "outputs": []
    },
    {
      "cell_type": "markdown",
      "source": [
        "##### 1. Why did you pick the specific chart?"
      ],
      "metadata": {
        "id": "K5QZ13OEpz2H"
      }
    },
    {
      "cell_type": "markdown",
      "source": [
        "I chose a bar chart because it is the best to compare the count of categorical variables like type (i.e.,Movies vs TV shows).\n",
        "A bar chart makes the comparison clear and visually easy to understand."
      ],
      "metadata": {
        "id": "XESiWehPqBRc"
      }
    },
    {
      "cell_type": "markdown",
      "source": [
        "##### 2. What is/are the insight(s) found from the chart?"
      ],
      "metadata": {
        "id": "lQ7QKXXCp7Bj"
      }
    },
    {
      "cell_type": "markdown",
      "source": [
        "The chart shows that Amazon Prime has a higher number of movies than TV shows. This indicates that movies form larger portion of their content catalog."
      ],
      "metadata": {
        "id": "C_j1G7yiqdRP"
      }
    },
    {
      "cell_type": "markdown",
      "source": [
        "##### 3. Will the gained insights help creating a positive business impact?\n",
        "Are there any insights that lead to negative growth? Justify with specific reason."
      ],
      "metadata": {
        "id": "448CDAPjqfQr"
      }
    },
    {
      "cell_type": "markdown",
      "source": [
        "**POSITIVE INSIGHT**\n",
        "\n",
        "The platform appears to be movie dominated which can attract users looking for a quick, standalone content. This aligns well with binge-watching behaviour and casual viewers.\n",
        "\n",
        "**NEGATIVE INSIGHTS**\n",
        "\n",
        "The lower number of TV shows could be a missed opportunity, especially since long format content increases viewer retention. Amazon may consider investing in more series based content to balance the offering."
      ],
      "metadata": {
        "id": "3cspy4FjqxJW"
      }
    },
    {
      "cell_type": "markdown",
      "source": [
        "#### Chart - 2"
      ],
      "metadata": {
        "id": "KSlN3yHqYklG"
      }
    },
    {
      "cell_type": "code",
      "source": [
        "import matplotlib.pyplot as plt\n",
        "import seaborn as sns\n",
        "\n",
        "# Create a figure for the plot with a specified size\n",
        "plt.figure(figsize=(6,4))\n",
        "\n",
        "# Generate a count plot of age certifications, ordered by frequency\n",
        "sns.countplot(\n",
        "    data=titles_clean,\n",
        "    x='age_certification',\n",
        "    order=titles_clean['age_certification'].value_counts().index,\n",
        "    palette='Set2' # Set the color palette for the bars\n",
        ")\n",
        "\n",
        "# Set the title of the plot\n",
        "plt.title('Distribution of content by age certification')\n",
        "\n",
        "# Set the label for the x-axis\n",
        "plt.xlabel('Age Certification')\n",
        "\n",
        "# Set the label for the y-axis\n",
        "plt.ylabel('Count')\n",
        "\n",
        "# Rotate x-axis labels for better readability\n",
        "plt.xticks(rotation=45)\n",
        "\n",
        "# Display the plot\n",
        "plt.show()"
      ],
      "metadata": {
        "id": "R4YgtaqtYklH"
      },
      "execution_count": null,
      "outputs": []
    },
    {
      "cell_type": "markdown",
      "source": [
        "##### 1. Why did you pick the specific chart?"
      ],
      "metadata": {
        "id": "t6dVpIINYklI"
      }
    },
    {
      "cell_type": "markdown",
      "source": [
        "I used a bar chart again because we are analyzing a categorical variable-age_certification. A bar chart helps compare the volume of content across different age ratings easily and visually."
      ],
      "metadata": {
        "id": "5aaW0BYyYklI"
      }
    },
    {
      "cell_type": "markdown",
      "source": [
        "##### 2. What is/are the insight(s) found from the chart?"
      ],
      "metadata": {
        "id": "ijmpgYnKYklI"
      }
    },
    {
      "cell_type": "markdown",
      "source": [
        "\n",
        "\n",
        "*   A significant portion of the content has an \"unknown\" age certification.\n",
        "*   Among the labeled ones, \"16+\" and \"18+\" have the highest content volume.\n",
        "\n",
        "\n",
        "*   Content for children and family is relatively low\n",
        "\n",
        "\n",
        "\n",
        "\n"
      ],
      "metadata": {
        "id": "PSx9atu2YklI"
      }
    },
    {
      "cell_type": "markdown",
      "source": [
        "##### 3. Will the gained insights help creating a positive business impact?\n",
        "Are there any insights that lead to negative growth? Justify with specific reason."
      ],
      "metadata": {
        "id": "-JiQyfWJYklI"
      }
    },
    {
      "cell_type": "markdown",
      "source": [
        "**POSITIVE INSIGHTS**\n",
        "\n",
        "the platform caters more towards teen and adult audiences, which matches the global OTT trend for mature and more drama driven content.\n",
        "\n",
        "**NEGATIVE INSIGHTS**\n",
        "\n",
        "The high number of UNKNOWN certifications might reduce trust among parents or cautious viewers. Also limited content for children could mean losing out on family subscribers."
      ],
      "metadata": {
        "id": "BcBbebzrYklV"
      }
    },
    {
      "cell_type": "markdown",
      "source": [
        "#### Chart - 3"
      ],
      "metadata": {
        "id": "EM7whBJCYoAo"
      }
    },
    {
      "cell_type": "code",
      "source": [
        "import seaborn as sns\n",
        "import matplotlib.pyplot as plt\n",
        "\n",
        "# Calculate the number of titles released per year and sort by year\n",
        "yearly_counts = titles_clean['release_year'].value_counts().sort_index()\n",
        "\n",
        "# Create a figure for the plot with a specified size\n",
        "plt.figure(figsize=(10,6))\n",
        "\n",
        "# Generate a line plot showing the number of titles released per year\n",
        "sns.lineplot(x=yearly_counts.index, y=yearly_counts.values, color='green')\n",
        "\n",
        "# Set the title of the plot\n",
        "plt.title('Number of Titles Released per Year')\n",
        "\n",
        "# Set the label for the x-axis\n",
        "plt.xlabel('Release Year')\n",
        "\n",
        "# Set the label for the y-axis\n",
        "plt.ylabel('Number of titles')\n",
        "\n",
        "# Rotate x-axis labels for better readability\n",
        "plt.xticks(rotation=45)\n",
        "\n",
        "# Add a grid to the plot\n",
        "plt.grid(True)\n",
        "\n",
        "# Display the plot\n",
        "plt.show()"
      ],
      "metadata": {
        "id": "t6GMdE67YoAp"
      },
      "execution_count": null,
      "outputs": []
    },
    {
      "cell_type": "markdown",
      "source": [
        "##### 1. Why did you pick the specific chart?"
      ],
      "metadata": {
        "id": "fge-S5ZAYoAp"
      }
    },
    {
      "cell_type": "markdown",
      "source": [
        "I chose a line chart to clearly visualize the no of titles released over the years. It helps understand the trend in Amazon Prime's content growth or decline."
      ],
      "metadata": {
        "id": "5dBItgRVYoAp"
      }
    },
    {
      "cell_type": "markdown",
      "source": [
        "##### 2. What is/are the insight(s) found from the chart?"
      ],
      "metadata": {
        "id": "85gYPyotYoAp"
      }
    },
    {
      "cell_type": "markdown",
      "source": [
        "The chart shows that content release increased significantly after a certain year (e.g. post-2015) possibly reflecting A,azon's strategic push into original content. There may also be noticeable dips in certain years, like during the pandemic."
      ],
      "metadata": {
        "id": "4jstXR6OYoAp"
      }
    },
    {
      "cell_type": "markdown",
      "source": [
        "##### 3. Will the gained insights help creating a positive business impact?\n",
        "Are there any insights that lead to negative growth? Justify with specific reason."
      ],
      "metadata": {
        "id": "RoGjAbkUYoAp"
      }
    },
    {
      "cell_type": "markdown",
      "source": [
        "POSITIVE INSIGHTS\n",
        "\n",
        "Groeth over time indicates Amazon is expanding its catalog potenially increasing user engagement and subscription value.\n",
        "\n",
        "NEGATIVE INSIGHTS\n",
        "\n",
        "If there is a sharp drop in recent years, it may hint at reduced production or acquisition- which can affect platform variety."
      ],
      "metadata": {
        "id": "zfJ8IqMcYoAp"
      }
    },
    {
      "cell_type": "markdown",
      "source": [
        "#### Chart - 4"
      ],
      "metadata": {
        "id": "4Of9eVA-YrdM"
      }
    },
    {
      "cell_type": "code",
      "source": [
        "import ast\n",
        "from collections import Counter\n",
        "#function to clean and extract genres\n",
        "def clean_genres(genres_str):\n",
        "    try:\n",
        "      #convert a stringified list to actual list (if it looks like a list)\n",
        "        genres = ast.literal_eval(genres_str)\n",
        "        if isinstance(genres, list):\n",
        "            return genres\n",
        "        else:\n",
        "            return [genres_str]\n",
        "    except:\n",
        "      #if it is not a list format just return the string as a single item list\n",
        "        return [genres_str]\n",
        "\n",
        "#split genre strings and flatten the list\n",
        "genres_series = titles_clean['genres'].dropna().apply(clean_genres)\n",
        "flat_genres = [genre  for sublist in genres_series for genre in sublist]\n",
        "\n",
        "#count and get top 10\n",
        "genre_counts = Counter(flat_genres)\n",
        "top_genres = dict(sorted(genre_counts.items(), key=lambda x: x[1], reverse=True)[:10])\n",
        "\n",
        "#plot\n",
        "plt.figure(figsize=(8,5))\n",
        "sns.barplot(x=list(top_genres.values()), y=list(top_genres.keys()), palette='Blues_r')\n",
        "plt.title('Top 10 Most Common Genres on Amazon Prime')\n",
        "plt.xlabel('Genre')\n",
        "plt.ylabel('Count')\n",
        "plt.show()"
      ],
      "metadata": {
        "id": "irlUoxc8YrdO"
      },
      "execution_count": null,
      "outputs": []
    },
    {
      "cell_type": "markdown",
      "source": [
        "##### 1. Why did you pick the specific chart?"
      ],
      "metadata": {
        "id": "iky9q4vBYrdO"
      }
    },
    {
      "cell_type": "markdown",
      "source": [
        "i chose a horizontal bar chart because genre names can be long and this layout allows them to be displayed clearly. it is also perfect for ranking top 10 cvategories visually."
      ],
      "metadata": {
        "id": "aJRCwT6DYrdO"
      }
    },
    {
      "cell_type": "markdown",
      "source": [
        "##### 2. What is/are the insight(s) found from the chart?"
      ],
      "metadata": {
        "id": "F6T5p64dYrdO"
      }
    },
    {
      "cell_type": "markdown",
      "source": [
        "\n",
        "- Drama is the most common genre on Amazon prime.\n",
        "\n",
        "- Followed by comedy, thriller, action and romance\n",
        "\n",
        "- Genres like fantasy and horror are present but less dominant.\n"
      ],
      "metadata": {
        "id": "Xx8WAJvtYrdO"
      }
    },
    {
      "cell_type": "markdown",
      "source": [
        "##### 3. Will the gained insights help creating a positive business impact?\n",
        "Are there any insights that lead to negative growth? Justify with specific reason."
      ],
      "metadata": {
        "id": "y-Ehk30pYrdP"
      }
    },
    {
      "cell_type": "markdown",
      "source": [
        "**POSITIVE INSIGHTS **\n",
        "\n",
        "The platform is targeting emotionally engaging and mainstream genres like drama and comedy which have broad audience appeal.\n",
        "\n",
        "**NEGATIVE INSIGHTS**\n",
        "\n",
        "Less content in niche genres like Sci fi or Fantasy could make Amazon prime less sttractive to fans of those categories, compared to competitors like Netflix or Hotstar."
      ],
      "metadata": {
        "id": "jLNxxz7MYrdP"
      }
    },
    {
      "cell_type": "markdown",
      "source": [
        "#### Chart - 5"
      ],
      "metadata": {
        "id": "bamQiAODYuh1"
      }
    },
    {
      "cell_type": "code",
      "source": [
        "import seaborn as sns\n",
        "import matplotlib.pyplot as plt\n",
        "\n",
        "# Create a figure for the plot\n",
        "plt.figure(figsize=(8,5))\n",
        "\n",
        "# Generate a histogram of IMDb scores with KDE curve\n",
        "sns.histplot(titles_clean['imdb_score'], bins=20, kde=True, color='red')\n",
        "\n",
        "# Set the title of the plot\n",
        "plt.title('Distribution of IMDb Scores')\n",
        "\n",
        "# Set the label for the x-axis\n",
        "plt.xlabel('IMDb Score')\n",
        "\n",
        "# Set the label for the y-axis\n",
        "plt.ylabel('Frequency')\n",
        "\n",
        "# Display the plot\n",
        "plt.show()"
      ],
      "metadata": {
        "id": "TIJwrbroYuh3"
      },
      "execution_count": null,
      "outputs": []
    },
    {
      "cell_type": "markdown",
      "source": [
        "##### 1. Why did you pick the specific chart?"
      ],
      "metadata": {
        "id": "QHF8YVU7Yuh3"
      }
    },
    {
      "cell_type": "markdown",
      "source": [
        "I chose a histogram with KDE curve to visualize the distribution of IMDb scores. It helps show where most content falls in terms of viewer ratings, and how \"spread out\" or skewed the ratings are."
      ],
      "metadata": {
        "id": "dcxuIMRPYuh3"
      }
    },
    {
      "cell_type": "markdown",
      "source": [
        "##### 2. What is/are the insight(s) found from the chart?"
      ],
      "metadata": {
        "id": "GwzvFGzlYuh3"
      }
    },
    {
      "cell_type": "markdown",
      "source": [
        "- Most titles have IMDb scores between 5 and 7\n",
        "\n",
        "- Very few titles are rated below 4 or above 8\n",
        "\n",
        "- There is a slight peak around 6.5 which seems to be the most common score range."
      ],
      "metadata": {
        "id": "uyqkiB8YYuh3"
      }
    },
    {
      "cell_type": "markdown",
      "source": [
        "##### 3. Will the gained insights help creating a positive business impact?\n",
        "Are there any insights that lead to negative growth? Justify with specific reason."
      ],
      "metadata": {
        "id": "qYpmQ266Yuh3"
      }
    },
    {
      "cell_type": "markdown",
      "source": [
        "POSITIVE INSIGHTS\n",
        "\n",
        "The majority of content is above average in ratings which helps maintain audience trust and satisfaction.\n",
        "\n",
        "\n",
        "NEGATIVE INSIGHTS\n",
        "\n",
        "Lack of top rated content could mean the platform needs more critically acclaimed or award winning titles to stand out."
      ],
      "metadata": {
        "id": "_WtzZ_hCYuh4"
      }
    },
    {
      "cell_type": "markdown",
      "source": [
        "#### Chart - 6"
      ],
      "metadata": {
        "id": "OH-pJp9IphqM"
      }
    },
    {
      "cell_type": "code",
      "source": [
        "import seaborn as sns\n",
        "import matplotlib.pyplot as plt\n",
        "\n",
        "# Ensure release_year is numeric and handle potential errors\n",
        "titles_clean['release_year'] = pd.to_numeric(titles_clean['release_year'], errors='coerce')\n",
        "\n",
        "# Drop rows where release_year could not be converted to numeric (NaN)\n",
        "titles_clean = titles_clean.dropna(subset=['release_year'])\n",
        "\n",
        "# Convert release_year to integer type\n",
        "titles_clean['release_year'] = titles_clean['release_year'].astype(int)\n",
        "\n",
        "# Create a figure for the plot\n",
        "plt.figure(figsize=(10,5))\n",
        "\n",
        "# Generate a line plot showing the average IMDb score over time\n",
        "# ci=None is deprecated, use errorbar=None instead for future versions\n",
        "sns.lineplot(x='release_year', y='imdb_score', data=titles_clean, ci=None, color='purple')\n",
        "\n",
        "# Set the title of the plot\n",
        "plt.title('IMDb Score Over Time')\n",
        "\n",
        "# Set the label for the x-axis\n",
        "plt.xlabel('Release Year')\n",
        "\n",
        "# Set the label for the y-axis\n",
        "plt.ylabel('IMDb Score')\n",
        "\n",
        "# Display the plot\n",
        "plt.show()"
      ],
      "metadata": {
        "id": "kuRf4wtuphqN"
      },
      "execution_count": null,
      "outputs": []
    },
    {
      "cell_type": "markdown",
      "source": [
        "##### 1. Why did you pick the specific chart?"
      ],
      "metadata": {
        "id": "bbFf2-_FphqN"
      }
    },
    {
      "cell_type": "markdown",
      "source": [
        "a scatter plot is ideal to show the relationship between two continuous variables- in this case release year and imdb score.\n",
        "it helps reveal trends outliers or score patterns over time\n"
      ],
      "metadata": {
        "id": "loh7H2nzphqN"
      }
    },
    {
      "cell_type": "markdown",
      "source": [
        "##### 2. What is/are the insight(s) found from the chart?"
      ],
      "metadata": {
        "id": "_ouA3fa0phqN"
      }
    },
    {
      "cell_type": "markdown",
      "source": [
        "- imdb scores are generally clustered between 5 and 7 over the years\n",
        "\n",
        "- some high rated contents appears more after 2015 showing quality investments in recent years.\n",
        "\n",
        "-very few titles go below a score of 3"
      ],
      "metadata": {
        "id": "VECbqPI7phqN"
      }
    },
    {
      "cell_type": "markdown",
      "source": [
        "##### 3. Will the gained insights help creating a positive business impact?\n",
        "Are there any insights that lead to negative growth? Justify with specific reason."
      ],
      "metadata": {
        "id": "Seke61FWphqN"
      }
    },
    {
      "cell_type": "markdown",
      "source": [
        "POSITIVE INSIGHTS\n",
        "\n",
        "Steady IMDb ratings over time show consistent quality. the appearence of high rated titles in recent years is a strong signal of content improvement and better audience reception\n",
        "\n",
        "\n",
        "NEGATIVE INSIGHTS\n",
        "\n",
        "if score distribution remains too average (5-6 range) it might suggest a lack of standout or critically acclaimed content"
      ],
      "metadata": {
        "id": "DW4_bGpfphqN"
      }
    },
    {
      "cell_type": "markdown",
      "source": [
        "#### Chart - 7"
      ],
      "metadata": {
        "id": "PIIx-8_IphqN"
      }
    },
    {
      "cell_type": "code",
      "source": [
        "import pandas as pd\n",
        "import seaborn as sns\n",
        "import matplotlib.pyplot as plt\n",
        "\n",
        "# Use titles_clean instead of titles\n",
        "# Fix typo: sort_value to sort_values\n",
        "# Drop rows with missing runtime or title for this specific plot\n",
        "titles_clean = titles_clean.dropna(subset=['runtime', 'title'])\n",
        "\n",
        "# Sort by runtime in descending order and get the top 10\n",
        "top_runtime = titles_clean.sort_values(by='runtime', ascending=False).head(10)\n",
        "\n",
        "# Create a figure for the plot\n",
        "plt.figure(figsize=(10, 8))\n",
        "# Generate a horizontal bar plot of the top 10 movies by runtime\n",
        "sns.barplot(x='title', y='runtime', data=top_runtime, color='yellow')\n",
        "# Set the title of the plot\n",
        "plt.title('Top 10 Movies by Runtime')\n",
        "# Set the label for the x-axis\n",
        "plt.xlabel('Movie Title')\n",
        "# Set the label for the y-axis\n",
        "plt.ylabel('Runtime (minutes)')\n",
        "# Rotate x-axis labels for better readability\n",
        "plt.xticks(rotation=45, ha='right')\n",
        "# Adjust layout to prevent labels overlapping\n",
        "plt.tight_layout()\n",
        "# Display the plot\n",
        "plt.show()"
      ],
      "metadata": {
        "id": "lqAIGUfyphqO"
      },
      "execution_count": null,
      "outputs": []
    },
    {
      "cell_type": "markdown",
      "source": [
        "##### 1. Why did you pick the specific chart?"
      ],
      "metadata": {
        "id": "t27r6nlMphqO"
      }
    },
    {
      "cell_type": "markdown",
      "source": [
        "I chose a horizontal bar chart because it clearly displays and compares the top 10 titles with the longest runtimes, making ut easy to interpret large numerical differences."
      ],
      "metadata": {
        "id": "iv6ro40sphqO"
      }
    },
    {
      "cell_type": "markdown",
      "source": [
        "##### 2. What is/are the insight(s) found from the chart?"
      ],
      "metadata": {
        "id": "r2jJGEOYphqO"
      }
    },
    {
      "cell_type": "markdown",
      "source": [
        "Some titles on Amazon Prime have unusually long runtimes, possibly indicating mini series, documentries, or extended editions. These may affect viewer engagement or platform strategies"
      ],
      "metadata": {
        "id": "Po6ZPi4hphqO"
      }
    },
    {
      "cell_type": "markdown",
      "source": [
        "##### 3. Will the gained insights help creating a positive business impact?\n",
        "Are there any insights that lead to negative growth? Justify with specific reason."
      ],
      "metadata": {
        "id": "b0JNsNcRphqO"
      }
    },
    {
      "cell_type": "markdown",
      "source": [
        "Yes understanding runtime extremes helps the platform recommend content based on user watch time behaviour. However extremely long runtinmes might also lead to viewer drop off which could be a negative impact."
      ],
      "metadata": {
        "id": "xvSq8iUTphqO"
      }
    },
    {
      "cell_type": "markdown",
      "source": [
        "#### Chart - 8"
      ],
      "metadata": {
        "id": "BZR9WyysphqO"
      }
    },
    {
      "cell_type": "code",
      "source": [
        "directors_df = credits_clean[credits_clean['role']=='DIRECTOR']\n",
        "top_directors = directors_df['name'].value_counts().head(10)\n",
        "plt.figure(figsize=(10,6))\n",
        "sns.barplot(x=top_directors.index, y=top_directors.values, color='violet')\n",
        "plt.title('Top 10 Directors on Amazon Prime')\n",
        "plt.xlabel('Director')\n",
        "plt.ylabel('Count')\n",
        "plt.xticks(rotation=45)\n",
        "plt.show()"
      ],
      "metadata": {
        "id": "TdPTWpAVphqO"
      },
      "execution_count": null,
      "outputs": []
    },
    {
      "cell_type": "markdown",
      "source": [
        "##### 1. Why did you pick the specific chart?"
      ],
      "metadata": {
        "id": "jj7wYXLtphqO"
      }
    },
    {
      "cell_type": "markdown",
      "source": [
        "A Horizontal bar chart is ideal for ranking data and clearly visualizing long text labels like names. It let us easily compare the top directors without over lapping text."
      ],
      "metadata": {
        "id": "Ob8u6rCTphqO"
      }
    },
    {
      "cell_type": "markdown",
      "source": [
        "##### 2. What is/are the insight(s) found from the chart?"
      ],
      "metadata": {
        "id": "eZrbJ2SmphqO"
      }
    },
    {
      "cell_type": "markdown",
      "source": [
        "- We can see which directors are most frequent on the platform.\n",
        "\n",
        "- It might reflect deals between Amazon  and specific directors.\n",
        "\n",
        "- if some names dominate, it could influence content style and genre consistency."
      ],
      "metadata": {
        "id": "mZtgC_hjphqO"
      }
    },
    {
      "cell_type": "markdown",
      "source": [
        "##### 3. Will the gained insights help creating a positive business impact?\n",
        "Are there any insights that lead to negative growth? Justify with specific reason."
      ],
      "metadata": {
        "id": "rFu4xreNphqO"
      }
    },
    {
      "cell_type": "markdown",
      "source": [
        "POSTIVE INSIGHT\n",
        "\n",
        "Helps Amazon Prime identify which directors drive the most content and possibly usder engagement.\n",
        "\n",
        "NEGATIVE INSIGHT\n",
        "\n",
        "Over reliance on a few directors might lead to lack of diversity in content style."
      ],
      "metadata": {
        "id": "ey_0qi68phqO"
      }
    },
    {
      "cell_type": "markdown",
      "source": [
        "#### Chart - 9"
      ],
      "metadata": {
        "id": "YJ55k-q6phqO"
      }
    },
    {
      "cell_type": "code",
      "source": [
        "import ast\n",
        "import seaborn as sns\n",
        "import matplotlib.pyplot as plt\n",
        "import pandas as pd\n",
        "\n",
        "# Create a copy of the dataframe and drop rows with missing runtime or genres\n",
        "runtime_genre = titles_clean.dropna(subset=['runtime', 'genres']).copy()\n",
        "\n",
        "# Function to safely extract the first genre from the string representation of a list\n",
        "def extract_first_genre(x):\n",
        "    try:\n",
        "        # Safely evaluate the string as a Python literal (list)\n",
        "        genres_list = ast.literal_eval(x) if isinstance(x, str) else []\n",
        "        # Return the first genre if the list is not empty, otherwise 'Unknown'\n",
        "        return genres_list[0] if genres_list else 'Unknown'\n",
        "    except:\n",
        "        # Handle cases where the string is not a valid list representation\n",
        "        return 'Unknown'\n",
        "\n",
        "# Apply the function to the 'genres' column to get the main genre\n",
        "runtime_genre['main_genre'] = runtime_genre['genres'].apply(extract_first_genre)\n",
        "\n",
        "# Calculate the average runtime for each main genre (This line is commented out in the original code)\n",
        "# average_runtime_by_genre = runtime_genre.groupby('main_genre')['runtime'].mean().sort_values(ascending=False)\n",
        "\n",
        "# Create a figure for the plot\n",
        "plt.figure(figsize=(18,6)) # Increased figure size to accommodate more genres\n",
        "\n",
        "# Draw the boxplot without outlier points\n",
        "sns.boxplot(\n",
        "    x='main_genre',\n",
        "    y='runtime',\n",
        "    data=runtime_genre,\n",
        "    palette='viridis',\n",
        "    showfliers=False  # Hide default outliers\n",
        ")\n",
        "\n",
        "\n",
        "# Add plot titles and labels\n",
        "plt.title('Distribution of Runtime by Genre', fontsize=14, fontweight='bold')\n",
        "plt.xlabel('Genre', fontsize=12)\n",
        "plt.ylabel('Runtime (in minutes)', fontsize=12)\n",
        "\n",
        "# Rotate x-axis labels for better readability\n",
        "plt.xticks(rotation=45, ha='right') # Rotated and aligned for better fit\n",
        "\n",
        "# Adjust layout\n",
        "plt.tight_layout()\n",
        "\n",
        "# Show the plot\n",
        "plt.show()"
      ],
      "metadata": {
        "id": "B2aS4O1ophqO"
      },
      "execution_count": null,
      "outputs": []
    },
    {
      "cell_type": "markdown",
      "source": [
        "##### 1. Why did you pick the specific chart?"
      ],
      "metadata": {
        "id": "gCFgpxoyphqP"
      }
    },
    {
      "cell_type": "markdown",
      "source": [
        "I chose a box plot for Chart 9 because it's an excellent way to visualize the distribution of a numerical variable (runtime) across different categorical groups (genres). It effectively shows the median, quartiles, and potential outliers for the runtime within each genre. This helps us understand the typical runtime range for content in various genres and compare these distributions, which is valuable for content planning.\n",
        "\n"
      ],
      "metadata": {
        "id": "TVxDimi2phqP"
      }
    },
    {
      "cell_type": "markdown",
      "source": [
        "##### 2. What is/are the insight(s) found from the chart?"
      ],
      "metadata": {
        "id": "OVtJsKN_phqQ"
      }
    },
    {
      "cell_type": "markdown",
      "source": [
        "- Variation in Typical Runtimes: Different genres have different typical runtimes. You can see this by comparing the boxes for each genre – some are longer or shorter than others.\n",
        "Spread of Runtimes within Genres: The length of the boxes and the whiskers shows how much the runtimes vary within a specific genre. Some genres might have a narrow range of runtimes, while others have a much wider spread.\n",
        "- Median Runtime: The line inside each box represents the median runtime for that genre. This gives you a central value to understand the typical length of content in that category.\n",
        "- Potential Outliers: Although the plot is set to showfliers=False, the whiskers extend to the last data point within 1.5 times the interquartile range. If showfliers were true, you might see individual points beyond the whiskers, indicating titles with unusually long or short runtimes for their genre."
      ],
      "metadata": {
        "id": "ngGi97qjphqQ"
      }
    },
    {
      "cell_type": "markdown",
      "source": [
        "##### 3. Will the gained insights help creating a positive business impact?\n",
        "Are there any insights that lead to negative growth? Justify with specific reason."
      ],
      "metadata": {
        "id": "lssrdh5qphqQ"
      }
    },
    {
      "cell_type": "markdown",
      "source": [
        "Positive Business Impact:\n",
        "\n",
        "Informed Content Strategy: By understanding the typical runtimes for successful content in different genres, Amazon Prime can make more informed decisions about acquiring or producing content that aligns with audience expectations for that genre. For example, if viewers expect dramas to be longer, they can focus on acquiring or creating longer-form drama series or movies.\n",
        "\n",
        "Improved Content Recommendation: Knowing the typical runtime of different genres can help the recommendation engine. If a user enjoys a certain genre, the platform can recommend other titles within that genre that have a similar runtime distribution, potentially increasing user satisfaction and watch time.\n",
        "\n",
        "Optimized Scheduling and Curation: Understanding runtime variations can help with content scheduling and curation on the platform, ensuring a good mix of short and long-form content within different genres to cater to various viewing preferences and time availability.\n",
        "\n",
        "\n",
        "Negative Growth Considerations:\n",
        "\n",
        "Viewer Drop-off with Extremely Long Runtimes: If certain genres have a significant number of titles with extremely long runtimes (even if not explicitly shown as outliers in this plot with showfliers=False, the distribution indicates this possibility), it could lead to viewer drop-off. Users might be less likely to start or finish content that requires a very long time commitment, potentially negatively impacting engagement and completion rates for those specific titles or genres.\n",
        "\n",
        "Mismatch with Audience Preferences: If the typical runtime of content in a popular genre on Amazon Prime significantly deviates from what viewers typically expect or prefer for that genre (based on industry trends or competitor analysis), it could lead to lower viewer satisfaction and engagement."
      ],
      "metadata": {
        "id": "tBpY5ekJphqQ"
      }
    },
    {
      "cell_type": "markdown",
      "source": [
        "#### Chart - 10"
      ],
      "metadata": {
        "id": "U2RJ9gkRphqQ"
      }
    },
    {
      "cell_type": "code",
      "source": [
        "import matplotlib.pyplot as plt\n",
        "import seaborn as sns\n",
        "import ast\n",
        "\n",
        "# Function to safely extract the first country from the string representation of a list\n",
        "def extract_first_country(country_list_str):\n",
        "    try:\n",
        "        # Use ast.literal_eval to safely evaluate the string as a Python literal\n",
        "        country_list = ast.literal_eval(country_list_str)\n",
        "        # Check if the evaluated result is a list and not empty\n",
        "        if isinstance(country_list, list) and country_list:\n",
        "            return country_list[0]\n",
        "        else:\n",
        "            # Handle cases where the list is empty or evaluation fails\n",
        "            return 'Unknown'\n",
        "    except:\n",
        "        # Handle cases where the string is not a valid list representation\n",
        "        return 'Unknown'\n",
        "\n",
        "# Apply the function to the 'production_countries' column\n",
        "titles_clean['production_country'] = titles_clean['production_countries'].apply(extract_first_country)\n",
        "\n",
        "# Calculate the average tmdb_score for each production country\n",
        "country_score = titles_clean.groupby('production_country')['tmdb_score'].mean().sort_values(ascending=False)\n",
        "\n",
        "# Get the top 10 countries\n",
        "top_10_countries = country_score.head(10)\n",
        "\n",
        "# Create a figure for the plot\n",
        "plt.figure(figsize=(10,6))\n",
        "# Generate a bar plot of the top 10 countries by average TMDb score\n",
        "sns.barplot(x=top_10_countries.index, y=top_10_countries.values, color='blue') # Used palette instead of color\n",
        "# Set the title of the plot\n",
        "plt.title('Top 10 Production Countries by Average TMDb Score')\n",
        "# Set the label for the x-axis\n",
        "plt.xlabel('Production Countries')\n",
        "# Set the label for the y-axis\n",
        "plt.ylabel('Average TMDb Score')\n",
        "# Rotate x-axis labels for better readability\n",
        "plt.xticks(rotation=45)\n",
        "# Display the plot\n",
        "plt.show()"
      ],
      "metadata": {
        "id": "GM7a4YP4phqQ"
      },
      "execution_count": null,
      "outputs": []
    },
    {
      "cell_type": "markdown",
      "source": [
        "##### 1. Why did you pick the specific chart?"
      ],
      "metadata": {
        "id": "1M8mcRywphqQ"
      }
    },
    {
      "cell_type": "markdown",
      "source": [
        "this helps us see which countries consistently produce high quality content (based on tmdb score).\n",
        "it reveals geographic trends in quality.\n"
      ],
      "metadata": {
        "id": "8agQvks0phqQ"
      }
    },
    {
      "cell_type": "markdown",
      "source": [
        "##### 2. What is/are the insight(s) found from the chart?"
      ],
      "metadata": {
        "id": "tgIPom80phqQ"
      }
    },
    {
      "cell_type": "markdown",
      "source": [
        "- Dominician Republic (DO) and Singapore (SG) have the highest average tmdb scores among all countries.\n",
        "\n",
        "- Japan (JP) Costa Rica (CR) and Palestine (PS) show the lowest TMDB scores"
      ],
      "metadata": {
        "id": "Qp13pnNzphqQ"
      }
    },
    {
      "cell_type": "markdown",
      "source": [
        "##### 3. Will the gained insights help creating a positive business impact?\n",
        "Are there any insights that lead to negative growth? Justify with specific reason."
      ],
      "metadata": {
        "id": "JMzcOPDDphqR"
      }
    },
    {
      "cell_type": "markdown",
      "source": [
        "POSITIVE - High scoring countries like SG and DO can be promoted more, or Amazon cxan explore regional licensing deals.\n",
        "\n",
        "NEGATIVE - LOw average scores from JP CR PS may indicate either a mismatch with viewer to improve content curation from those regions"
      ],
      "metadata": {
        "id": "R4Ka1PC2phqR"
      }
    },
    {
      "cell_type": "markdown",
      "source": [
        "#### Chart - 11"
      ],
      "metadata": {
        "id": "x-EpHcCOp1ci"
      }
    },
    {
      "cell_type": "code",
      "source": [
        "import pandas as pd\n",
        "\n",
        "import matplotlib.pyplot as plt\n",
        "import seaborn as sns\n",
        "import ast\n",
        "\n",
        "# Assuming your dataframe is called titles_clean\n",
        "# Step 1: Drop rows with missing genres or years\n",
        "df_genre_year = titles_clean[['release_year', 'genres']].dropna().copy()\n",
        "\n",
        "# Step 2: Explode genres if multiple genres are listed using the ast.literal_eval function\n",
        "def safe_literal_eval(x):\n",
        "    try:\n",
        "        return ast.literal_eval(x) if isinstance(x, str) else []\n",
        "    except:\n",
        "        return []\n",
        "\n",
        "df_genre_year['genres'] = df_genre_year['genres'].apply(safe_literal_eval)\n",
        "df_genre_year = df_genre_year.explode('genres')\n",
        "\n",
        "# Step 3: Group by year and genre\n",
        "genre_trend = df_genre_year.groupby(['release_year', 'genres']).size().reset_index(name='count')\n",
        "\n",
        "# Step 4: Plot the top 5 genres over time\n",
        "top_genres = genre_trend.groupby('genres')['count'].sum().sort_values(ascending=False).head(5).index\n",
        "filtered = genre_trend[genre_trend['genres'].isin(top_genres)]\n",
        "\n",
        "plt.figure(figsize=(12,6))\n",
        "sns.lineplot(data=filtered, x='release_year', y='count', hue='genres', marker='o')\n",
        "plt.title('Top 5 Genre Trends Over Time on Amazon Prime')\n",
        "plt.xlabel('Release Year')\n",
        "plt.ylabel('Number of Titles')\n",
        "plt.legend(title='Genre')\n",
        "plt.grid(True)\n",
        "plt.tight_layout()\n",
        "plt.show()"
      ],
      "metadata": {
        "id": "mAQTIvtqp1cj"
      },
      "execution_count": null,
      "outputs": []
    },
    {
      "cell_type": "markdown",
      "source": [
        "##### 1. Why did you pick the specific chart?"
      ],
      "metadata": {
        "id": "X_VqEhTip1ck"
      }
    },
    {
      "cell_type": "markdown",
      "source": [
        "This line plot was selected because it clearly shows how the popularity of different genres has changed over the years. Trends over time are best visualized using line plots, especially when comparing multiple categories (like genres). It helps decision-makers:\n",
        "-\tSpot rising and declining genre trends\n",
        "-\tUnderstand user preferences across different years\n",
        "-\tMake future content acquisition or production decisions"
      ],
      "metadata": {
        "id": "-vsMzt_np1ck"
      }
    },
    {
      "cell_type": "markdown",
      "source": [
        "##### 2. What is/are the insight(s) found from the chart?"
      ],
      "metadata": {
        "id": "8zGJKyg5p1ck"
      }
    },
    {
      "cell_type": "markdown",
      "source": [
        "1.\tCertain genres show consistent growth:\n",
        "For example, if Thriller or Documentary titles are steadily increasing year over year, it indicates a growing interest in such genres from viewers.\n",
        "\n",
        "2.\tSome genres may have spiked in certain years:\n",
        "E.g., a sudden increase in Drama around 2020 might be due to pandemic-induced shifts in content creation or user preference.\n",
        "\n",
        "3.\tDecline in certain genres:\n",
        "Genres like Romance or Comedy might show a flat or declining curve, suggesting they are either saturated or not being prioritized in recent years"
      ],
      "metadata": {
        "id": "ZYdMsrqVp1ck"
      }
    },
    {
      "cell_type": "markdown",
      "source": [
        "##### 3. Will the gained insights help creating a positive business impact?\n",
        "Are there any insights that lead to negative growth? Justify with specific reason."
      ],
      "metadata": {
        "id": "PVzmfK_Ep1ck"
      }
    },
    {
      "cell_type": "markdown",
      "source": [
        "Positive Insight:\n",
        "\n",
        "The chart helps identify which genres are gaining popularity over time, allowing Amazon to invest more in trending genres and align content with audience interests.\n",
        "\n",
        "Negative Insight:\n",
        "\n",
        "Genres showing a decline (e.g., Comedy or Romance) may reflect changing viewer preferences or content fatigue, which can lead to reduced engagement if not addressed."
      ],
      "metadata": {
        "id": "druuKYZpp1ck"
      }
    },
    {
      "cell_type": "markdown",
      "source": [
        "#### Chart - 12"
      ],
      "metadata": {
        "id": "n3dbpmDWp1ck"
      }
    },
    {
      "cell_type": "code",
      "source": [
        "import pandas as pd\n",
        "import matplotlib.pyplot as plt\n",
        "import seaborn as sns\n",
        "import ast\n",
        "\n",
        "# Assuming your DataFrame is named titles_clean and the column is 'production_countries'\n",
        "# Function to safely extract and process production countries\n",
        "def process_countries(country_list_str):\n",
        "    try:\n",
        "        # Use ast.literal_eval to safely evaluate the string as a Python literal\n",
        "        country_list = ast.literal_eval(country_list_str)\n",
        "        # Return the list of countries if successful, otherwise an empty list\n",
        "        return country_list if isinstance(country_list, list) else []\n",
        "    except:\n",
        "        # Handle cases where the string is not a valid list representation\n",
        "        return []\n",
        "\n",
        "# Apply the function to the 'production_countries' column and explode the list\n",
        "all_countries = titles_clean['production_countries'].dropna().apply(process_countries).explode()\n",
        "\n",
        "# Count the occurrences of each country and get the top 10\n",
        "country_counts = all_countries.value_counts().head(10)\n",
        "\n",
        "# Create a figure for the plot\n",
        "plt.figure(figsize=(12,6))\n",
        "# Generate a bar plot of the top 10 countries by content count\n",
        "sns.barplot(x=country_counts.values, y=country_counts.index, palette='viridis')\n",
        "# Set the label for the x-axis\n",
        "plt.xlabel('Number of Titles')\n",
        "# Set the label for the y-axis\n",
        "plt.ylabel('Production Country')\n",
        "# Set the title of the plot\n",
        "plt.title('Top 10 Countries by Content Availability on Amazon Prime')\n",
        "# Adjust layout to prevent labels overlapping\n",
        "plt.tight_layout()\n",
        "# Display the plot\n",
        "plt.show()"
      ],
      "metadata": {
        "id": "bwevp1tKp1ck"
      },
      "execution_count": null,
      "outputs": []
    },
    {
      "cell_type": "markdown",
      "source": [
        "##### 1. Why did you pick the specific chart?"
      ],
      "metadata": {
        "id": "ylSl6qgtp1ck"
      }
    },
    {
      "cell_type": "markdown",
      "source": [
        "This chart helps visualize which countries contribute the most content to Amazon Prime, giving insight into geographic diversity and potential content gaps."
      ],
      "metadata": {
        "id": "m2xqNkiQp1ck"
      }
    },
    {
      "cell_type": "markdown",
      "source": [
        "##### 2. What is/are the insight(s) found from the chart?"
      ],
      "metadata": {
        "id": "ZWILFDl5p1ck"
      }
    },
    {
      "cell_type": "markdown",
      "source": [
        "1.\tHigh Contribution from a Few Countries:\n",
        "\t•\tCountries like the United States, India, and United Kingdom have the highest number of titles, showing they are the main content producers on the platform.\n",
        "\n",
        "2.\tDominance of English-Speaking Regions:\n",
        "\t•\tMost top contributors are English-speaking or produce a large amount of English content, aligning with the platform’s global audience preferences.\n",
        "\n",
        "3.\tLow Representation of Other Countries:\n",
        "\t•\tMany regions, such as those in Africa, Eastern Europe, or Southeast Asia, are underrepresented, which could signal missed opportunities for cultural variety or regional expansion.\n",
        "  \n",
        "4.\tStrategic Expansion Opportunity:\n",
        "\t•\tAmazon Prime could consider expanding licensing and original content production in underrepresented but growing markets like South Korea, Brazil, or Middle East to diversify its library and attract more subscribers."
      ],
      "metadata": {
        "id": "x-lUsV2mp1ck"
      }
    },
    {
      "cell_type": "markdown",
      "source": [
        "##### 3. Will the gained insights help creating a positive business impact?\n",
        "Are there any insights that lead to negative growth? Justify with specific reason."
      ],
      "metadata": {
        "id": "M7G43BXep1ck"
      }
    },
    {
      "cell_type": "markdown",
      "source": [
        "Positive Insight:\n",
        "\t•\tIdentifies countries that are major content contributors, which can guide partnership and localization strategies.\n",
        "\n",
        "Negative Insight:\n",
        "\t•\tCountries with low representation may indicate limited global diversity or licensing challenges, potentially alienating regional audiences."
      ],
      "metadata": {
        "id": "5wwDJXsLp1cl"
      }
    },
    {
      "cell_type": "markdown",
      "source": [
        "#### Chart - 13"
      ],
      "metadata": {
        "id": "Ag9LCva-p1cl"
      }
    },
    {
      "cell_type": "code",
      "source": [
        "import pandas as pd\n",
        "import matplotlib.pyplot as plt\n",
        "import seaborn as sns\n",
        "\n",
        "# Filter for TV shows with non-null seasons and imdb_score\n",
        "df_shows_with_seasons = titles_clean[(titles_clean['type'] == 'SHOW') &\n",
        "                                    (titles_clean['seasons'].notna()) &\n",
        "                                    (titles_clean['imdb_score'].notna())].copy()\n",
        "\n",
        "# Convert seasons to integer\n",
        "df_shows_with_seasons['seasons'] = df_shows_with_seasons['seasons'].astype(int)\n",
        "\n",
        "# Calculate average imdb_score by number of seasons\n",
        "average_score_by_seasons = df_shows_with_seasons.groupby('seasons')['imdb_score'].mean().reset_index()\n",
        "\n",
        "# Plotting\n",
        "plt.figure(figsize=(12, 6))\n",
        "# Generate a bar plot of the average IMDb score by number of seasons\n",
        "# Addressing the FutureWarning by explicitly setting 'x' as the hue\n",
        "sns.barplot(x='seasons', y='imdb_score', data=average_score_by_seasons, hue='seasons', palette='viridis', legend=False)\n",
        "# Set the title of the plot\n",
        "plt.title('Average IMDb Score by Number of Seasons for TV Shows')\n",
        "# Set the label for the x-axis\n",
        "plt.xlabel('Number of Seasons')\n",
        "# Set the label for the y-axis\n",
        "plt.ylabel('Average IMDb Score')\n",
        "# Rotate x-axis labels for better readability\n",
        "plt.xticks(rotation=45)\n",
        "# Add a grid to the plot for better readability\n",
        "plt.grid(axis='y')\n",
        "# Display the plot\n",
        "plt.show()"
      ],
      "metadata": {
        "id": "EUfxeq9-p1cl"
      },
      "execution_count": null,
      "outputs": []
    },
    {
      "cell_type": "markdown",
      "source": [
        "##### 1. Why did you pick the specific chart?"
      ],
      "metadata": {
        "id": "E6MkPsBcp1cl"
      }
    },
    {
      "cell_type": "markdown",
      "source": [
        "This chart shows whether longer running shows (more seasons) tend to be rated better or whether short limited series are more critically acclaimed.\n",
        "Helpful for content startegy decisions w.g. whether to investy in mini series or long running shows."
      ],
      "metadata": {
        "id": "V22bRsFWp1cl"
      }
    },
    {
      "cell_type": "markdown",
      "source": [
        "##### 2. What is/are the insight(s) found from the chart?"
      ],
      "metadata": {
        "id": "2cELzS2fp1cl"
      }
    },
    {
      "cell_type": "markdown",
      "source": [
        "Shorter series tend to receive better ratings suggesting that viewers may prefer concise, well crafted storylines over longer ones."
      ],
      "metadata": {
        "id": "ozQPc2_Ip1cl"
      }
    },
    {
      "cell_type": "markdown",
      "source": [
        "##### 3. Will the gained insights help creating a positive business impact?\n",
        "Are there any insights that lead to negative growth? Justify with specific reason."
      ],
      "metadata": {
        "id": "3MPXvC8up1cl"
      }
    },
    {
      "cell_type": "markdown",
      "source": [
        "POSITIVE Content creators and platforms can be confident in producing both limited series and long running shows knowing that either can perform well in terms of viewer satisfaction\n",
        "\n",
        "NEGATIVE The lack of clear differentiation might make it harder to predict success based solely on the number of seasons."
      ],
      "metadata": {
        "id": "GL8l1tdLp1cl"
      }
    },
    {
      "cell_type": "markdown",
      "source": [
        "#### Chart - 14 - Correlation Heatmap"
      ],
      "metadata": {
        "id": "NC_X3p0fY2L0"
      }
    },
    {
      "cell_type": "code",
      "source": [
        "import matplotlib.pyplot as plt\n",
        "import seaborn as sns\n",
        "\n",
        "numeric_cols = titles_clean.select_dtypes(include=['int64','float64'])\n",
        "correlation_matrix = numeric_cols.corr()\n",
        "\n",
        "plt.figure(figsize=(10, 8))\n",
        "sns.heatmap(correlation_matrix, annot=True, cmap='coolwarm', fmt=\".2f\")\n",
        "plt.title('Correlation Heatmap of Numeric Features on Amazon Prime')\n",
        "plt.show()"
      ],
      "metadata": {
        "id": "xyC9zolEZNRQ"
      },
      "execution_count": null,
      "outputs": []
    },
    {
      "cell_type": "markdown",
      "source": [
        "##### 1. Why did you pick the specific chart?"
      ],
      "metadata": {
        "id": "UV0SzAkaZNRQ"
      }
    },
    {
      "cell_type": "markdown",
      "source": [
        "A correlation heatmap gives a quick overview of the relationship between numerical variables like imdb score, runtime, popularity, tdmd etc. It helps in identifying which variables are postively or negatively correlated."
      ],
      "metadata": {
        "id": "DVPuT8LYZNRQ"
      }
    },
    {
      "cell_type": "markdown",
      "source": [
        "##### 2. What is/are the insight(s) found from the chart?"
      ],
      "metadata": {
        "id": "YPEH6qLeZNRQ"
      }
    },
    {
      "cell_type": "markdown",
      "source": [
        "IMDb Score and TDMD show a strong positive correlation-suggesting that if one is high, the other tends to be high too.\n",
        "\n",
        "IMBb votes are moderately correlated with Popularity, meaning titles with more votes often have higher popularity.\n",
        "\n",
        "Runtime shows weak correlations with most other variables-indicating it is largely independent."
      ],
      "metadata": {
        "id": "bfSqtnDqZNRR"
      }
    },
    {
      "cell_type": "markdown",
      "source": [
        "#### Chart - 15 - Pair Plot"
      ],
      "metadata": {
        "id": "q29F0dvdveiT"
      }
    },
    {
      "cell_type": "code",
      "source": [
        "import seaborn as sns\n",
        "import matplotlib.pyplot as plt\n",
        "\n",
        "pairplot_cols = ['imdb_score', 'imdb_votes', 'tmdb_popularity', 'runtime']\n",
        "df_pair = titles_clean[pairplot_cols].dropna()\n",
        "sns.pairplot(df_pair, diag_kind='kde')\n",
        "plt.suptitle('Pair Plot of Selected Numeric Features', y=1.02)\n",
        "plt.show()"
      ],
      "metadata": {
        "id": "o58-TEIhveiU"
      },
      "execution_count": null,
      "outputs": []
    },
    {
      "cell_type": "markdown",
      "source": [
        "##### 1. Why did you pick the specific chart?"
      ],
      "metadata": {
        "id": "EXh0U9oCveiU"
      }
    },
    {
      "cell_type": "markdown",
      "source": [
        "A pair plot helps visualize relationships between multiple numeric variables at once.\n",
        "It is usedful to identify patterns, trends, outliers, or potential correlations."
      ],
      "metadata": {
        "id": "eMmPjTByveiU"
      }
    },
    {
      "cell_type": "markdown",
      "source": [
        "##### 2. What is/are the insight(s) found from the chart?"
      ],
      "metadata": {
        "id": "22aHeOlLveiV"
      }
    },
    {
      "cell_type": "markdown",
      "source": [
        "Titles with more votes tend to have moderately higher scores. But it is not strong linear relationship meaning vote count does not always mean quality.\n",
        "\n",
        "As popularity increases, IMDb votes also tend to increase. This shows that popular titles attract more user engagement."
      ],
      "metadata": {
        "id": "yH5-8ydMhLdi"
      }
    },
    {
      "cell_type": "markdown",
      "source": [
        "## **5. Solution to Business Objective**"
      ],
      "metadata": {
        "id": "JcMwzZxoAimU"
      }
    },
    {
      "cell_type": "code",
      "source": [
        "\n",
        "\n",
        "# 5. Solution to Business Objective\n",
        "\n",
        "# Based on the EDA, here are potential solutions and insights related to the business objectives:\n",
        "\n",
        "# Objective 1: Understand Content Distribution\n",
        "# - We found that movies significantly outnumber TV shows.\n",
        "# - Content is heavily skewed towards US, UK, and India.\n",
        "# - Age ratings \"16+\" and \"18+\" are most common, with a large \"Unknown\" category.\n",
        "# Solution: To diversify and potentially increase retention, Amazon Prime could invest more in TV series, particularly those targeting different demographics or international markets beyond the top contributors. Improving age certification data is crucial for targeted marketing and content curation.\n",
        "\n",
        "# Objective 2 & 3: Identify Viewer Preferences and Track Popularity Trends\n",
        "# - Drama, Comedy, and Thriller are the most prevalent genres, indicating broad appeal.\n",
        "# - Average IMDb scores tend to be in the 5-7 range, with fewer critically acclaimed titles.\n",
        "# - There is a trend towards increasing content release over recent years.\n",
        "# - Shorter TV series may have slightly higher average ratings.\n",
        "# Solution: Focus on acquiring or producing high-quality content (aiming for scores > 7.5) across diverse genres. The trend data suggests continued investment is happening, which is positive. Consider promoting shorter series more prominently, as they seem to resonate well.\n",
        "\n",
        "# Objective 4: Support Data-Driven Personalization\n",
        "# - The relationship between IMDb score, votes, and popularity can be used.\n",
        "# - Genre trends and country origins are strong indicators of user preference.\n",
        "# Solution: Enhance recommendation engines by incorporating genre popularity trends over time, average scores by genre and country, and correlation insights. If a user watches a high-rated thriller from a specific country, recommend similar content with high popularity and vote count.\n",
        "\n",
        "# Objective 5: Assist Strategic Planning\n",
        "# - The dominance of certain countries highlights key markets but also potential for expansion elsewhere.\n",
        "# - The distribution of genres suggests areas for both reinforcing strengths and exploring gaps.\n",
        "# Solution: Based on average scores by country, identify regions that consistently produce well-received content for potential partnerships. For genres, continue investing in Drama/Comedy but also explore opportunities in less saturated genres that show high average scores, or invest in higher quality content within lower-scoring popular genres.\n"
      ],
      "metadata": {
        "id": "4EJpNmsrgr8F"
      },
      "execution_count": null,
      "outputs": []
    },
    {
      "cell_type": "markdown",
      "source": [
        "#### What do you suggest the client to achieve Business Objective ?\n",
        "Explain Briefly."
      ],
      "metadata": {
        "id": "8G2x9gOozGDZ"
      }
    },
    {
      "cell_type": "markdown",
      "source": [
        "Based On the Exploratory data analysis of Amazon Prime's content, the following actionable insights are proposed to support business growth:\n",
        "\n",
        "1. Optimize Genre Focus:\n",
        "By identifying high performing genres (like Thriller and Drama) with strong imdb scores and popularity, the platform can priortize these genres in future acquisitions or productions.\n",
        "\n",
        "2. Enhance Content Discovery:\n",
        "Several titles with high IMDb scores had low popularity, suggesting that quality content is going unnoticed. Targeted promotions and recommendations can increase engagement for such titles.\n",
        "\n",
        "3. Time Based Release Strategy:\n",
        "Analysis of yearly release trends shows a steady rise in content volume until a drop in recent years. The platform could analyze user demand vs release volume to align better with viewer expectations.\n",
        "\n",
        "4. Focus on Highly rated Directors and Production Countries\n",
        "Certain directors and countries consistently yield higher IMDb ratings. Partnering with them could increase content quality and user satisfaction.\n",
        "\n",
        "5.Data Driven Personalization:\n",
        "Combining metadata like genre, runtime, and user ratings allow for better personalized recommendations boosting retention and engagement.\n",
        "\n",
        "By applying these strategies Amazon Prime can maximize viewership, retain more users, and ensure a data informed content roadmap."
      ],
      "metadata": {
        "id": "pASKb0qOza21"
      }
    },
    {
      "cell_type": "markdown",
      "source": [
        "# **Conclusion**"
      ],
      "metadata": {
        "id": "gCX9965dhzqZ"
      }
    },
    {
      "cell_type": "markdown",
      "source": [
        "In this Exploratory Data Analysis project on Amazon Prime content, we analyzed various aspects such as content type distribution, age certifications, genre trends, IMDb ratings, director performance, and more. Using 15 different visualizations, we identified patterns in user ratings, release trends and content quality. The insights gained helped us recommend genre optimiztaion, better content promotion, and improved recommendation systems. Overall, the analysis supports data driven decisions making for Amazon Prime to enhance content strategy, increase viewership, and boost customer satisfaction."
      ],
      "metadata": {
        "id": "Fjb1IsQkh3yE"
      }
    },
    {
      "cell_type": "markdown",
      "source": [
        "### ***Hurrah! You have successfully completed your EDA Capstone Project !!!***"
      ],
      "metadata": {
        "id": "gIfDvo9L0UH2"
      }
    },
    {
      "cell_type": "code",
      "source": [],
      "metadata": {
        "id": "dYX880etpL0x"
      },
      "execution_count": null,
      "outputs": []
    },
    {
      "cell_type": "code",
      "source": [],
      "metadata": {
        "id": "-6Vl263upPVI"
      },
      "execution_count": null,
      "outputs": []
    },
    {
      "cell_type": "code",
      "metadata": {
        "id": "555e0d2f"
      },
      "source": [],
      "execution_count": null,
      "outputs": []
    },
    {
      "cell_type": "code",
      "metadata": {
        "id": "6aacab51"
      },
      "source": [],
      "execution_count": null,
      "outputs": []
    }
  ]
}